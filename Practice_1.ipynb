{
 "cells": [
  {
   "cell_type": "code",
   "execution_count": 1,
   "metadata": {},
   "outputs": [
    {
     "data": {
      "text/plain": [
       "'t'"
      ]
     },
     "execution_count": 1,
     "metadata": {},
     "output_type": "execute_result"
    }
   ],
   "source": [
    "# # String Methods & Function\n",
    "\n",
    "\n",
    "a=\"lalit\"\n",
    "# print(a)\n",
    "# print(type(a))\n",
    "# print(id(a))\n",
    "max(a)\n",
    "# len(a)\n",
    "# min(a)\n",
    "# sorted(a)\n",
    "# a.count(\"l\")\n",
    "# a.find(\"i\")\n",
    "# a.ljust(50)\n",
    "# a.rjust(60)\n",
    "# a.replace(\"a\",\"o\")\n",
    "# a.upper()\n",
    "# a.lower()\n",
    "# a.capitalize()\n",
    "# a.title()\n",
    "# a.strip()\n",
    "# a.lstrip()\n",
    "# a.swapcase()\n",
    "# a.endswith(\"o\")\n",
    "# a.startswith(\"t\")\n",
    "# b=\"Humane\"\n",
    "# a.join(b)\n",
    "# a.zfill(50)\n",
    "# a.isalpha()\n",
    "# a.isdigit()\n",
    "# a.isalnum()\n",
    "# a.isspace()\n",
    "# a.islower()\n",
    "# a.isupper()\n",
    "# a[2]\n"
   ]
  },
  {
   "cell_type": "code",
   "execution_count": 51,
   "metadata": {},
   "outputs": [
    {
     "name": "stdout",
     "output_type": "stream",
     "text": [
      "[1, 2, 3, 4, 5, 6, 9, 45]\n"
     ]
    },
    {
     "data": {
      "text/plain": [
       "45"
      ]
     },
     "execution_count": 51,
     "metadata": {},
     "output_type": "execute_result"
    }
   ],
   "source": [
    "a=[1,2,3,4,5,6,9]\n",
    "a.append(45)\n",
    "print(a)\n",
    "a[7]\n",
    "\n"
   ]
  },
  {
   "cell_type": "code",
   "execution_count": 55,
   "metadata": {},
   "outputs": [
    {
     "name": "stdout",
     "output_type": "stream",
     "text": [
      "Note Eligible to Vote\n"
     ]
    }
   ],
   "source": [
    "a=int(input(\"enter your Value Here :- \"))\n",
    "\n",
    "if a>=18 :\n",
    "    print(\"Eligible to VOte\")\n",
    "else:\n",
    "    print(\"Note Eligible to Vote\")    "
   ]
  },
  {
   "cell_type": "code",
   "execution_count": 69,
   "metadata": {},
   "outputs": [
    {
     "name": "stdout",
     "output_type": "stream",
     "text": [
      "Lalit Gajanan Humane+Lalit Gajanan Humane+Lalit Gajanan Humane+Lalit Gajanan Humane+Lalit Gajanan Humane+Lalit Gajanan Humane+Lalit Gajanan Humane+Lalit Gajanan Humane+Lalit Gajanan Humane+Lalit Gajanan Humane+Lalit Gajanan Humane+Lalit Gajanan Humane+Lalit Gajanan Humane+Lalit Gajanan Humane+Lalit Gajanan Humane+Lalit Gajanan Humane+Lalit Gajanan Humane+Lalit Gajanan Humane+"
     ]
    }
   ],
   "source": [
    "# for i in range(1,10):\n",
    "#     print(\"Lalit Humane\")\n",
    "\n",
    "for a in range(1,19):\n",
    "    print(\"Lalit Gajanan Humane\",end=\"+\")"
   ]
  },
  {
   "cell_type": "code",
   "execution_count": 70,
   "metadata": {},
   "outputs": [
    {
     "name": "stdout",
     "output_type": "stream",
     "text": [
      "Lalit Gajanan Humane\n",
      "Lalit Gajanan Humane\n",
      "Lalit Gajanan Humane\n",
      "Lalit Gajanan Humane\n",
      "Lalit Gajanan Humane\n",
      "Lalit Gajanan Humane\n",
      "Lalit Gajanan Humane\n",
      "Lalit Gajanan Humane\n",
      "Lalit Gajanan Humane\n",
      "Lalit Gajanan Humane\n"
     ]
    }
   ],
   "source": [
    "a=1\n",
    "while(a<=10):\n",
    "    print(\"Lalit Gajanan Humane\")\n",
    "    a+=1"
   ]
  },
  {
   "cell_type": "markdown",
   "metadata": {},
   "source": [
    "a=1\n",
    "while(a<=10):\n",
    "    print(a)\n",
    "    a+=1"
   ]
  },
  {
   "cell_type": "code",
   "execution_count": 1,
   "metadata": {},
   "outputs": [
    {
     "name": "stdout",
     "output_type": "stream",
     "text": [
      "your Remaning Bal is  2000\n"
     ]
    }
   ],
   "source": [
    "# ATM Program\n",
    "bal=15000\n",
    "widrawl=int(input(\"Enter your Number Here\"))\n",
    "if(widrawl>=bal):\n",
    "    print(\"Invalid Amount\")\n",
    "else:\n",
    "    bal=bal-widrawl\n",
    "    print(\"your Remaning Bal is \",bal)    \n"
   ]
  },
  {
   "cell_type": "code",
   "execution_count": 2,
   "metadata": {},
   "outputs": [
    {
     "name": "stdout",
     "output_type": "stream",
     "text": [
      "17 * 1 = 17\n",
      "17 * 2 = 34\n",
      "17 * 3 = 51\n",
      "17 * 4 = 68\n",
      "17 * 5 = 85\n",
      "17 * 6 = 102\n",
      "17 * 7 = 119\n",
      "17 * 8 = 136\n",
      "17 * 9 = 153\n",
      "17 * 10 = 170\n"
     ]
    }
   ],
   "source": [
    "a=int(input(\"Enter your value here\"))\n",
    "for i in range(1,11):\n",
    "    print(a,\"*\",i,\"=\",a*i)"
   ]
  },
  {
   "cell_type": "code",
   "execution_count": 1,
   "metadata": {},
   "outputs": [
    {
     "name": "stdout",
     "output_type": "stream",
     "text": [
      "[10, 11, 12, 13, 14, 15]\n"
     ]
    },
    {
     "data": {
      "text/plain": [
       "[20, 30, 40]"
      ]
     },
     "execution_count": 1,
     "metadata": {},
     "output_type": "execute_result"
    }
   ],
   "source": [
    "def myList(x):\n",
    "    \n",
    "    x= [20, 30, 40]     #Reassigned the list\n",
    "    # return x\n",
    "    print(x)\n",
    "lst = [10, 11, 12, 13, 14, 15]\n",
    "\n",
    "myList(lst)   #This line is not printed,why..?     \n",
    "\n",
    "print(lst)\n",
    "\n",
    "myList(lst)\n"
   ]
  },
  {
   "cell_type": "code",
   "execution_count": 2,
   "metadata": {},
   "outputs": [
    {
     "name": "stdout",
     "output_type": "stream",
     "text": [
      "[1, 3, 4] [3, 5, 6]\n"
     ]
    }
   ],
   "source": [
    "l1=[1,2,3,4]\n",
    "l2=[2,3,5,6]\n",
    "for i in l1:\n",
    "    if i in l2:\n",
    "        l1.remove(i)\n",
    "        l2.remove(i)\n",
    "        print(l1,l2)\n",
    "    else:\n",
    "        continue\n"
   ]
  },
  {
   "cell_type": "code",
   "execution_count": null,
   "metadata": {},
   "outputs": [],
   "source": [
    "def is_leap(year):    \n",
    "    if year%4==0:\n",
    "        return True\n",
    "    elif year%100==0:\n",
    "        return False\n",
    "    elif year%400==0:\n",
    "        return True\n",
    "    \n",
    "year = int(input())\n",
    "print(is_leap(year)) sir when the year is i m getting true but when its not i m getting none\n"
   ]
  },
  {
   "cell_type": "code",
   "execution_count": 6,
   "metadata": {},
   "outputs": [
    {
     "name": "stdout",
     "output_type": "stream",
     "text": [
      "Current Letter P\n",
      "Current Letter y\n",
      "Current Letter t\n",
      "Bye\n"
     ]
    }
   ],
   "source": [
    "for letter in \"Python\":\n",
    "    if letter == \"h\":\n",
    "     break\n",
    "    print(\"Current Letter\",letter)\n",
    "print(\"Bye\")    "
   ]
  },
  {
   "cell_type": "code",
   "execution_count": 7,
   "metadata": {},
   "outputs": [
    {
     "name": "stdout",
     "output_type": "stream",
     "text": [
      "Current Letter P\n",
      "Current Letter y\n",
      "Current Letter t\n",
      "Current Letter o\n",
      "Current Letter n\n",
      "Complete for loop\n"
     ]
    }
   ],
   "source": [
    "for letter in \"Python\":\n",
    "    if letter == \"h\":\n",
    "        continue\n",
    "    print(\"Current Letter\",letter)\n",
    "print(\"Complete for loop\")    "
   ]
  },
  {
   "cell_type": "code",
   "execution_count": 8,
   "metadata": {},
   "outputs": [
    {
     "name": "stdout",
     "output_type": "stream",
     "text": [
      "P\n",
      "y\n",
      "t\n",
      "h\n",
      "o\n",
      "n\n",
      "Bye\n"
     ]
    }
   ],
   "source": [
    "for i in \"Python\":\n",
    "    if i == \"h\":\n",
    "        pass\n",
    "    print(i)\n",
    "print(\"Bye\")    "
   ]
  },
  {
   "cell_type": "code",
   "execution_count": 19,
   "metadata": {},
   "outputs": [
    {
     "name": "stdout",
     "output_type": "stream",
     "text": [
      "Odd\n",
      "Odd\n",
      "Odd\n",
      "Odd\n"
     ]
    }
   ],
   "source": [
    "l =[1,7,5,9]\n",
    "\n",
    "for i in l:\n",
    "    if i % 2 == 0:\n",
    "     print(\"Even \")\n",
    "     break\n",
    "    else:\n",
    "        print(\"Odd\") "
   ]
  },
  {
   "cell_type": "code",
   "execution_count": 24,
   "metadata": {},
   "outputs": [
    {
     "name": "stdout",
     "output_type": "stream",
     "text": [
      "alitajananumane"
     ]
    }
   ],
   "source": [
    "s = \"Lalit Gajanan Humane\"\n",
    "\n",
    "for i in s:\n",
    "    if i.islower():\n",
    "     print(i,end=\"\")"
   ]
  },
  {
   "cell_type": "code",
   "execution_count": 33,
   "metadata": {},
   "outputs": [
    {
     "name": "stdout",
     "output_type": "stream",
     "text": [
      "False l\n"
     ]
    }
   ],
   "source": [
    "l=input()\n",
    "for i in l:\n",
    "     if i.isupper():\n",
    "         print(\"True\",l)\n",
    "     else:\n",
    "         print(\"False\",l)    "
   ]
  },
  {
   "cell_type": "code",
   "execution_count": 44,
   "metadata": {},
   "outputs": [
    {
     "name": "stdout",
     "output_type": "stream",
     "text": [
      "21.2\n",
      "Bye\n"
     ]
    }
   ],
   "source": [
    "def sum():\n",
    "    a=int(input())\n",
    "    b=float(input())\n",
    "    print(a+b)\n",
    "sum()    \n",
    "\n",
    "\n",
    "print(\"Bye\")"
   ]
  },
  {
   "cell_type": "code",
   "execution_count": 46,
   "metadata": {},
   "outputs": [
    {
     "name": "stdout",
     "output_type": "stream",
     "text": [
      "None\n",
      "45\n",
      "None\n",
      "End of the Program\n"
     ]
    }
   ],
   "source": [
    "l=[\"Lalit\",45,\"Humane\"]\n",
    "for i in l:\n",
    "    if i == 45:\n",
    "        print(i)\n",
    "    else:\n",
    "        print(\"None\")\n",
    "print(\"End of the Program\")            "
   ]
  },
  {
   "cell_type": "code",
   "execution_count": 50,
   "metadata": {},
   "outputs": [
    {
     "name": "stdout",
     "output_type": "stream",
     "text": [
      "Result 1\n",
      "Result 2\n",
      "Result 3\n",
      "Result 4\n",
      "Result 5\n",
      "Result 6\n",
      "Result 7\n",
      "Result 8\n",
      "Result 9\n",
      "Result 10\n"
     ]
    }
   ],
   "source": [
    "i=1#initiate loop from 1\n",
    "while(i<=10):#give it end value\n",
    "    print(\"Result\",i)\n",
    "    i+=1#assign incremental alue"
   ]
  },
  {
   "cell_type": "code",
   "execution_count": 51,
   "metadata": {},
   "outputs": [
    {
     "name": "stdout",
     "output_type": "stream",
     "text": [
      "Number Pattern \n",
      "1 \n",
      "1 2 \n",
      "1 2 3 \n",
      "1 2 3 4 \n",
      "1 2 3 4 5 \n"
     ]
    }
   ],
   "source": [
    "print(\"Number Pattern \")\n",
    "\n",
    "# Decide the row count. (above pattern contains 5 rows)\n",
    "row = 5\n",
    "# start: 1\n",
    "# stop: row+1 (range never include stop number in result)\n",
    "# step: 1\n",
    "# run loop 5 times\n",
    "for i in range(1, row + 1, 1):\n",
    "    # Run inner loop i+1 times\n",
    "    for j in range(1, i + 1):\n",
    "        print(j, end=' ')\n",
    "    # empty line after each row\n",
    "    print(\"\")\n"
   ]
  },
  {
   "cell_type": "code",
   "execution_count": 55,
   "metadata": {},
   "outputs": [
    {
     "name": "stdout",
     "output_type": "stream",
     "text": [
      "Number Pattern\n",
      "1\n",
      "1 2\n",
      "1 2 3\n",
      "1 2 3 4\n",
      "1 2 3 4 5\n"
     ]
    }
   ],
   "source": [
    "print(\"Number Pattern\")\n",
    "row = 5# assign row number\n",
    "for i in range(1,row+1,1): #run loop for required row\n",
    "    for j in range(1,i,1): #run loop to print number\n",
    "        print(j,end=\" \") #print numbers\n",
    "    print(i)    #arrange in row"
   ]
  },
  {
   "cell_type": "code",
   "execution_count": 69,
   "metadata": {},
   "outputs": [
    {
     "name": "stdout",
     "output_type": "stream",
     "text": [
      "* Pattern\n",
      "1\n",
      "* 2\n",
      "* * 3\n",
      "* * * 4\n",
      "* * * * 5\n",
      "End\n"
     ]
    }
   ],
   "source": [
    "print(\"* Pattern\")\n",
    "row = 5\n",
    "for i in range(1,row+1,1):\n",
    "    for j in range(1,i,1):\n",
    "        print(\"*\",end=\" \")\n",
    "    print(i)\n",
    "print(\"End\")        "
   ]
  },
  {
   "cell_type": "code",
   "execution_count": 72,
   "metadata": {},
   "outputs": [
    {
     "name": "stdout",
     "output_type": "stream",
     "text": [
      "\n",
      "\n",
      "Sum is:  15\n"
     ]
    }
   ],
   "source": [
    "# s: store sum of all numbers\n",
    "s = 0\n",
    "n = int(input(\"Enter number \"))\n",
    "# run loop n times\n",
    "# stop: n+1 (because range never include stop number in result)\n",
    "for i in range(1, n + 1, 1):\n",
    "    # add current number to sum variable\n",
    "    s += i\n",
    "print(\"\\n\")\n",
    "print(\"Sum is: \", s)\n"
   ]
  },
  {
   "cell_type": "code",
   "execution_count": 76,
   "metadata": {},
   "outputs": [
    {
     "name": "stdout",
     "output_type": "stream",
     "text": [
      "Result is : 15\n"
     ]
    }
   ],
   "source": [
    "s = 0\n",
    "n = int(input(\"Enter your number here :\"))\n",
    "for i in range(1,n+1,1):\n",
    "    s+=i\n",
    "# print(\"\\n\")    \n",
    "print(\"Result is :\",s)"
   ]
  },
  {
   "cell_type": "code",
   "execution_count": 2,
   "metadata": {},
   "outputs": [
    {
     "name": "stdout",
     "output_type": "stream",
     "text": [
      "1\n",
      "3\n",
      "5\n",
      "7\n",
      "9\n"
     ]
    }
   ],
   "source": [
    "# i=int(input())\n",
    "# while(i%2==0):\n",
    "#     print(i*2)\n",
    "#     i+=2\n",
    "\n",
    "\n",
    "l=10\n",
    "for i in range(1,l+1,2):\n",
    "    print(i)"
   ]
  },
  {
   "cell_type": "code",
   "execution_count": null,
   "metadata": {},
   "outputs": [],
   "source": [
    "n = 2\n",
    "# stop: 11 (because range never include stop number in result)\n",
    "# run loop 10 times\n",
    "for i in range(1, 11, 1):\n",
    "    # 2 *i (current number)\n",
    "    product = n * i\n",
    "    print(product)\n"
   ]
  },
  {
   "cell_type": "code",
   "execution_count": 7,
   "metadata": {},
   "outputs": [
    {
     "name": "stdout",
     "output_type": "stream",
     "text": [
      "table 2\n",
      "table 4\n",
      "table 6\n",
      "table 8\n",
      "table 10\n",
      "table 12\n",
      "table 14\n",
      "table 16\n",
      "table 18\n",
      "table 20\n",
      "bye\n"
     ]
    }
   ],
   "source": [
    "n = int(input())\n",
    "for i in range(1,11,1):\n",
    "    product=n*i\n",
    "    # print(i)\n",
    "    print(\"table\",product)\n",
    "print(\"bye\")    "
   ]
  },
  {
   "cell_type": "code",
   "execution_count": 12,
   "metadata": {},
   "outputs": [
    {
     "name": "stdout",
     "output_type": "stream",
     "text": [
      "found it\n",
      "Bye\n"
     ]
    }
   ],
   "source": [
    "l=[1,4,7,8,\"h\",5]\n",
    "for i in l:\n",
    "    \"h\"!=l\n",
    "    print(\"found it\")\n",
    "    break\n",
    "print(\"Bye\")        "
   ]
  },
  {
   "cell_type": "code",
   "execution_count": 10,
   "metadata": {},
   "outputs": [
    {
     "name": "stdout",
     "output_type": "stream",
     "text": [
      "Name\n",
      "Age\n",
      "dict_items([('Name', 'Lalit'), ('Age', 28)])\n",
      "dict_keys(['Name', 'Age'])\n",
      "dict_values(['Lalit', 28])\n",
      "{'Name': 'Gajanan', 'Age': 28}\n"
     ]
    }
   ],
   "source": [
    "d ={\"Name\":\"Lalit\",\"Age\":28}\n",
    "for i in d:\n",
    "    d.items()\n",
    "    print(i)\n",
    "x = d.items()\n",
    "print(x)  \n",
    "y = d.keys()  \n",
    "print(y)\n",
    "z = d.values()\n",
    "print(z)\n",
    "d[\"Name\"]=\"Gajanan\"\n",
    "print(d)"
   ]
  },
  {
   "cell_type": "code",
   "execution_count": 16,
   "metadata": {},
   "outputs": [
    {
     "name": "stdout",
     "output_type": "stream",
     "text": [
      "{'Name': 'Lalit', 'Fathers Name': 'Gajanan', 'Mothers Name': 'Anita', 'Sister1 Name': 'Namrata', 'Sister2 Name': 'Damini'}\n"
     ]
    }
   ],
   "source": [
    "d = {}\n",
    "d[\"Name\"]=\"Lalit\"\n",
    "d[\"Fathers Name\"]=\"Gajanan\"\n",
    "d[\"Mothers Name\"]=\"Anita\"\n",
    "d[\"Sister1 Name\"]=\"Namrata\"\n",
    "d[\"Sister2 Name\"]=\"Damini\"\n",
    "print(d)"
   ]
  },
  {
   "cell_type": "code",
   "execution_count": 29,
   "metadata": {},
   "outputs": [
    {
     "ename": "TypeError",
     "evalue": "'str' object is not callable",
     "output_type": "error",
     "traceback": [
      "\u001b[1;31m---------------------------------------------------------------------------\u001b[0m",
      "\u001b[1;31mTypeError\u001b[0m                                 Traceback (most recent call last)",
      "\u001b[1;32ml:\\Coding\\Practice Coding\\Practice_1.ipynb Cell 32'\u001b[0m in \u001b[0;36m<cell line: 2>\u001b[1;34m()\u001b[0m\n\u001b[0;32m      <a href='vscode-notebook-cell:/l%3A/Coding/Practice%20Coding/Practice_1.ipynb#ch0000031?line=0'>1</a>\u001b[0m l\u001b[39m=\u001b[39m[\u001b[39m12\u001b[39m,\u001b[39m1\u001b[39m,\u001b[39m3\u001b[39m,\u001b[39m4\u001b[39m,\u001b[39m4\u001b[39m,\u001b[39m5\u001b[39m,\u001b[39m6\u001b[39m,\u001b[39m\"\u001b[39m\u001b[39mhfhf\u001b[39m\u001b[39m\"\u001b[39m]\n\u001b[0;32m      <a href='vscode-notebook-cell:/l%3A/Coding/Practice%20Coding/Practice_1.ipynb#ch0000031?line=1'>2</a>\u001b[0m \u001b[39mfor\u001b[39;00m i \u001b[39min\u001b[39;00m l:\n\u001b[1;32m----> <a href='vscode-notebook-cell:/l%3A/Coding/Practice%20Coding/Practice_1.ipynb#ch0000031?line=2'>3</a>\u001b[0m     s\u001b[39m=\u001b[39mstring(l)\n\u001b[0;32m      <a href='vscode-notebook-cell:/l%3A/Coding/Practice%20Coding/Practice_1.ipynb#ch0000031?line=3'>4</a>\u001b[0m     \u001b[39mif\u001b[39;00m s\u001b[39m.\u001b[39misalpha():\n\u001b[0;32m      <a href='vscode-notebook-cell:/l%3A/Coding/Practice%20Coding/Practice_1.ipynb#ch0000031?line=4'>5</a>\u001b[0m         \u001b[39mprint\u001b[39m(\u001b[39m\"\u001b[39m\u001b[39mfound it\u001b[39m\u001b[39m\"\u001b[39m,i)\n",
      "\u001b[1;31mTypeError\u001b[0m: 'str' object is not callable"
     ]
    }
   ],
   "source": [
    "l=[12,1,3,4,4,5,6,\"hfhf\"]\n",
    "for i in l:\n",
    "    s=string(l)\n",
    "    if s.isalpha():\n",
    "        print(\"found it\",i)\n",
    "    else:\n",
    "        print(\"Sorry\")\n",
    "print(\"Bye\")            "
   ]
  },
  {
   "cell_type": "code",
   "execution_count": 1,
   "metadata": {},
   "outputs": [
    {
     "name": "stdout",
     "output_type": "stream",
     "text": [
      "add 25 in the entered number and the new number is  35\n"
     ]
    }
   ],
   "source": [
    "l=int(input(\"Enter any number \"))\n",
    "y=lambda x:x+25\n",
    "print(\"add 25 in the entered number and the new number is \",y(l))\n"
   ]
  },
  {
   "cell_type": "code",
   "execution_count": 2,
   "metadata": {},
   "outputs": [
    {
     "name": "stdout",
     "output_type": "stream",
     "text": [
      "[3, 6, 9, 12, 15, 18, 21]\n"
     ]
    }
   ],
   "source": [
    "l=[1,2,3,4,5,6,7]\n",
    "final_l=list(map(lambda x: (x*3),l))\n",
    "print(final_l)"
   ]
  },
  {
   "cell_type": "code",
   "execution_count": 3,
   "metadata": {},
   "outputs": [
    {
     "name": "stdout",
     "output_type": "stream",
     "text": [
      "[25, 81, 36, 225]\n"
     ]
    }
   ],
   "source": [
    "l=[5, 9, 6, 15]\n",
    "final_l=list(map(lambda x:(x*x),l))\n",
    "print(final_l)\n"
   ]
  },
  {
   "cell_type": "code",
   "execution_count": 8,
   "metadata": {},
   "outputs": [
    {
     "ename": "SyntaxError",
     "evalue": "invalid syntax (1371994098.py, line 4)",
     "output_type": "error",
     "traceback": [
      "\u001b[1;36m  Input \u001b[1;32mIn [8]\u001b[1;36m\u001b[0m\n\u001b[1;33m    print(i\"\\n\")\u001b[0m\n\u001b[1;37m           ^\u001b[0m\n\u001b[1;31mSyntaxError\u001b[0m\u001b[1;31m:\u001b[0m invalid syntax\n"
     ]
    }
   ],
   "source": [
    "l=[1,2,3,4,5,6,7,8,9,4,6,4,10]\n",
    "even=list(filter(lambda l:l%2==0,l))\n",
    "for i in even:\n",
    "    print(i)"
   ]
  },
  {
   "cell_type": "code",
   "execution_count": 1,
   "metadata": {},
   "outputs": [
    {
     "name": "stdout",
     "output_type": "stream",
     "text": [
      "Found it\n",
      "Found it\n",
      "Found it\n",
      "Found it\n",
      "Found it\n",
      "Found it\n",
      "Found it\n",
      "Found it\n",
      "Found it\n",
      "Found it\n",
      "Found it\n",
      "Found it\n",
      "Found it\n"
     ]
    }
   ],
   "source": [
    "l=[1,2,3,4,5,4,4,7,8,4,78,5,4,8]\n",
    "for i in l:\n",
    "    if i<=10:\n",
    "        print(\"Found it\")"
   ]
  },
  {
   "cell_type": "code",
   "execution_count": 5,
   "metadata": {},
   "outputs": [
    {
     "name": "stdout",
     "output_type": "stream",
     "text": [
      "Found it  a\n"
     ]
    }
   ],
   "source": [
    "l=\"HUmane\"\n",
    "for i in l:\n",
    "    if i ==\"a\":\n",
    "        print(\"Found it \",i)\n"
   ]
  },
  {
   "cell_type": "code",
   "execution_count": 12,
   "metadata": {},
   "outputs": [
    {
     "name": "stdout",
     "output_type": "stream",
     "text": [
      "Even Number====> 0\n",
      "Odd Number===> 1\n",
      "Even Number====> 2\n",
      "Odd Number===> 3\n",
      "Even Number====> 4\n",
      "Odd Number===> 5\n",
      "Even Number====> 6\n",
      "Odd Number===> 7\n",
      "Even Number====> 8\n",
      "Odd Number===> 9\n",
      "Even Number====> 10\n",
      "Odd Number===> 11\n",
      "Even Number====> 12\n",
      "Odd Number===> 13\n",
      "Even Number====> 14\n",
      "Odd Number===> 15\n",
      "Even Number====> 16\n"
     ]
    }
   ],
   "source": [
    "l=[1,2,4,51,5,12,45,23,45,1,56,12,5,2,41,63,1]\n",
    "a = 0\n",
    "while(a<len(l)):\n",
    "    if a%2==0:\n",
    "        print(\"Even Number====>\",a)\n",
    "    else:\n",
    "        print(\"Odd Number===>\",a)    \n",
    "    a=a+1  "
   ]
  },
  {
   "cell_type": "code",
   "execution_count": 14,
   "metadata": {},
   "outputs": [
    {
     "name": "stdout",
     "output_type": "stream",
     "text": [
      "Odd Number===> 1\n",
      "EVen Number===> 2\n",
      "EVen Number===> 4\n",
      "Odd Number===> 51\n",
      "Odd Number===> 5\n",
      "EVen Number===> 12\n",
      "Odd Number===> 45\n",
      "Odd Number===> 23\n",
      "Odd Number===> 45\n",
      "Odd Number===> 1\n",
      "EVen Number===> 56\n",
      "EVen Number===> 12\n",
      "Odd Number===> 5\n",
      "EVen Number===> 2\n",
      "Odd Number===> 41\n",
      "Odd Number===> 63\n",
      "Odd Number===> 1\n",
      "ENd of Loop\n"
     ]
    }
   ],
   "source": [
    "l=[1,2,4,51,5,12,45,23,45,1,56,12,5,2,41,63,1]\n",
    "\n",
    "for i in l:\n",
    "    if i%2==0:\n",
    "        print(\"EVen Number===>\",i)\n",
    "    else:\n",
    "        print(\"Odd Number===>\",i)\n",
    "print(\"ENd of Loop\")            "
   ]
  },
  {
   "cell_type": "code",
   "execution_count": 18,
   "metadata": {},
   "outputs": [
    {
     "name": "stdout",
     "output_type": "stream",
     "text": [
      "1 * 5 = 5\n",
      "2 * 5 = 5\n",
      "3 * 5 = 5\n",
      "4 * 5 = 5\n",
      "5 * 5 = 5\n",
      "6 * 5 = 5\n",
      "7 * 5 = 5\n",
      "8 * 5 = 5\n",
      "9 * 5 = 5\n",
      "10 * 5 = 5\n"
     ]
    }
   ],
   "source": [
    "num=int(input(\"Enter your Number Here\"))\n",
    "a=1\n",
    "while a<11:\n",
    "    print(a,\"*\",num,\"=\",num)\n",
    "    a=a+1"
   ]
  },
  {
   "cell_type": "code",
   "execution_count": 7,
   "metadata": {},
   "outputs": [
    {
     "ename": "TypeError",
     "evalue": "unsupported operand type(s) for +: 'int' and 'str'",
     "output_type": "error",
     "traceback": [
      "\u001b[1;31m---------------------------------------------------------------------------\u001b[0m",
      "\u001b[1;31mTypeError\u001b[0m                                 Traceback (most recent call last)",
      "\u001b[1;32ml:\\Coding\\Practice Coding\\Practice_1.ipynb Cell 42'\u001b[0m in \u001b[0;36m<cell line: 5>\u001b[1;34m()\u001b[0m\n\u001b[0;32m      <a href='vscode-notebook-cell:/l%3A/Coding/Practice%20Coding/Practice_1.ipynb#ch0000041?line=4'>5</a>\u001b[0m \u001b[39mwhile\u001b[39;00m (a\u001b[39m<\u001b[39m\u001b[39mlen\u001b[39m(l)):\n\u001b[0;32m      <a href='vscode-notebook-cell:/l%3A/Coding/Practice%20Coding/Practice_1.ipynb#ch0000041?line=5'>6</a>\u001b[0m     \u001b[39mif\u001b[39;00m l\u001b[39m.\u001b[39misupper():\n\u001b[1;32m----> <a href='vscode-notebook-cell:/l%3A/Coding/Practice%20Coding/Practice_1.ipynb#ch0000041?line=6'>7</a>\u001b[0m        \u001b[39mprint\u001b[39m( a\u001b[39m=\u001b[39ma\u001b[39m+\u001b[39;49mcap)\n\u001b[0;32m      <a href='vscode-notebook-cell:/l%3A/Coding/Practice%20Coding/Practice_1.ipynb#ch0000041?line=7'>8</a>\u001b[0m     \u001b[39m# elif l.islower():\u001b[39;00m\n\u001b[0;32m      <a href='vscode-notebook-cell:/l%3A/Coding/Practice%20Coding/Practice_1.ipynb#ch0000041?line=8'>9</a>\u001b[0m     \u001b[39m#     # a=a+low\u001b[39;00m\n\u001b[0;32m     <a href='vscode-notebook-cell:/l%3A/Coding/Practice%20Coding/Practice_1.ipynb#ch0000041?line=9'>10</a>\u001b[0m     a\u001b[39m=\u001b[39ma\u001b[39m+\u001b[39m\u001b[39m1\u001b[39m\n",
      "\u001b[1;31mTypeError\u001b[0m: unsupported operand type(s) for +: 'int' and 'str'"
     ]
    }
   ],
   "source": [
    "l = input()\n",
    "a=0\n",
    "cap=\"\"\n",
    "low=\"\"\n",
    "while (a<len(l)):\n",
    "    if l.isupper():\n",
    "       print( a=a+cap)\n",
    "    # elif l.islower():\n",
    "    #     # a=a+low\n",
    "    a=a+1\n",
    "print(cap)\n",
    "print(low)\n",
    "print(a)\n",
    "\n",
    "\n"
   ]
  },
  {
   "cell_type": "markdown",
   "metadata": {},
   "source": [
    "*Asrgs with extra argument"
   ]
  },
  {
   "cell_type": "code",
   "execution_count": 3,
   "metadata": {},
   "outputs": [
    {
     "name": "stdout",
     "output_type": "stream",
     "text": [
      "First argument : Hello\n",
      "Next argument through *argv : Welcome\n",
      "Next argument through *argv : to\n",
      "Next argument through *argv : GeeksforGeeks\n"
     ]
    }
   ],
   "source": [
    "# Python program to illustrate\n",
    "# *args with first extra argument\n",
    "def myFun(arg1, *argv):\n",
    "\tprint (\"First argument :\", arg1)\n",
    "\tfor i in argv:\n",
    "\t\tprint(\"Next argument through *argv :\", i)\n",
    "\n",
    "myFun('Hello', 'Welcome', 'to', 'GeeksforGeeks')\n"
   ]
  },
  {
   "cell_type": "markdown",
   "metadata": {},
   "source": [
    "**Keyword Arguments"
   ]
  },
  {
   "cell_type": "code",
   "execution_count": 7,
   "metadata": {},
   "outputs": [
    {
     "name": "stdout",
     "output_type": "stream",
     "text": [
      "arg1: Geeks\n",
      "arg2: for\n",
      "arg3: Geeks\n"
     ]
    }
   ],
   "source": [
    "def myFun(arg1, arg2, arg3):\n",
    "\tprint(\"arg1:\", arg1)\n",
    "\tprint(\"arg2:\", arg2)\n",
    "\tprint(\"arg3:\", arg3)\n",
    "\t# \n",
    "# Now we can use *args or **kwargs to\n",
    "# pass arguments to this function :\n",
    "# args = (\"Geeks\", \"for\", \"Geeks\")\n",
    "# myFun(*args)\n",
    "\n",
    "kwargs = {\"arg1\" : \"Geeks\", \"arg2\" : \"for\", \"arg3\" : \"Geeks\"}\n",
    "myFun(**kwargs)\n"
   ]
  },
  {
   "cell_type": "code",
   "execution_count": 8,
   "metadata": {},
   "outputs": [
    {
     "name": "stdout",
     "output_type": "stream",
     "text": [
      "args:  ('geeks', 'for', 'geeks')\n",
      "kwargs:  {'first': 'Geeks', 'mid': 'for', 'last': 'Geeks'}\n"
     ]
    }
   ],
   "source": [
    "def myFun(*args,**kwargs):\n",
    "\tprint(\"args: \", args)\n",
    "\tprint(\"kwargs: \", kwargs)\n",
    "\n",
    "\n",
    "# Now we can use both *args ,**kwargs\n",
    "# to pass arguments to this function :\n",
    "myFun('geeks','for','geeks',first=\"Geeks\",mid=\"for\",last=\"Geeks\")\n"
   ]
  },
  {
   "cell_type": "code",
   "execution_count": 4,
   "metadata": {},
   "outputs": [
    {
     "name": "stdout",
     "output_type": "stream",
     "text": [
      "helloLalit\n"
     ]
    }
   ],
   "source": [
    "def fun(name):\n",
    "    print(\"hello\" + name)\n",
    "\n",
    "fun(\"Lalit\")"
   ]
  },
  {
   "cell_type": "code",
   "execution_count": 9,
   "metadata": {},
   "outputs": [
    {
     "ename": "TypeError",
     "evalue": "add() missing 2 required positional arguments: 'a' and 'b'",
     "output_type": "error",
     "traceback": [
      "\u001b[1;31m---------------------------------------------------------------------------\u001b[0m",
      "\u001b[1;31mTypeError\u001b[0m                                 Traceback (most recent call last)",
      "\u001b[1;32ml:\\Coding\\Practice Coding\\Practice_1.ipynb Cell 49'\u001b[0m in \u001b[0;36m<cell line: 8>\u001b[1;34m()\u001b[0m\n\u001b[0;32m      <a href='vscode-notebook-cell:/l%3A/Coding/Practice%20Coding/Practice_1.ipynb#ch0000048?line=4'>5</a>\u001b[0m res \u001b[39m=\u001b[39m add(\u001b[39m5\u001b[39m,\u001b[39m7\u001b[39m) \u001b[39m#res will be having a value of 12.\u001b[39;00m\n\u001b[0;32m      <a href='vscode-notebook-cell:/l%3A/Coding/Practice%20Coding/Practice_1.ipynb#ch0000048?line=5'>6</a>\u001b[0m \u001b[39m# print(res)\u001b[39;00m\n\u001b[0;32m      <a href='vscode-notebook-cell:/l%3A/Coding/Practice%20Coding/Practice_1.ipynb#ch0000048?line=6'>7</a>\u001b[0m \u001b[39m# res = hello() #res will be having a value of None.\u001b[39;00m\n\u001b[1;32m----> <a href='vscode-notebook-cell:/l%3A/Coding/Practice%20Coding/Practice_1.ipynb#ch0000048?line=7'>8</a>\u001b[0m add()\n",
      "\u001b[1;31mTypeError\u001b[0m: add() missing 2 required positional arguments: 'a' and 'b'"
     ]
    }
   ],
   "source": [
    "def add(a, b):\n",
    "    return a + b\n",
    "def hello():\n",
    "    print(\"Hello world\")\n",
    "res = add(5,7) #res will be having a value of 12.\n",
    "# print(res)\n",
    "# res = hello() #res will be having a value of None.\n",
    "add()"
   ]
  },
  {
   "cell_type": "code",
   "execution_count": 11,
   "metadata": {},
   "outputs": [],
   "source": [
    "def areaOfCircle(radius, pi=3.14):\n",
    "    return pi * radius * radius"
   ]
  },
  {
   "cell_type": "code",
   "execution_count": 18,
   "metadata": {},
   "outputs": [
    {
     "name": "stdout",
     "output_type": "stream",
     "text": [
      "5\n"
     ]
    }
   ],
   "source": [
    "def sum(x,y):\n",
    "   return  x+y\n",
    "print(sum(2,3))    "
   ]
  },
  {
   "cell_type": "code",
   "execution_count": 4,
   "metadata": {},
   "outputs": [
    {
     "name": "stdout",
     "output_type": "stream",
     "text": [
      "50\n"
     ]
    }
   ],
   "source": [
    "y = lambda x : x+25\n",
    "print(y(25))"
   ]
  },
  {
   "cell_type": "code",
   "execution_count": 6,
   "metadata": {},
   "outputs": [
    {
     "name": "stdout",
     "output_type": "stream",
     "text": [
      "2\n",
      "4\n",
      "6\n",
      "8\n",
      "10\n",
      "12\n",
      "14\n",
      "16\n",
      "18\n",
      "20\n"
     ]
    }
   ],
   "source": [
    "tables = [lambda x=x: x*2 for x in range(1, 11)]\n",
    "\n",
    "for table in tables:\n",
    "\tprint(table())\n"
   ]
  },
  {
   "cell_type": "markdown",
   "metadata": {},
   "source": [
    "\"\"\"\n",
    "Python Lambda Function Syntax:\n",
    "\n",
    "lambda arguments: expression\n",
    "\n",
    "This function can have any number of arguments but only one expression, which is evaluated and returned.\n",
    "One is free to use lambda functions wherever function objects are required.\n",
    "You need to keep in your knowledge that lambda functions are syntactically restricted to a single expression.\n",
    "It has various uses in particular fields of programming besides other types of expressions in functions.\n",
    "\"\"\""
   ]
  },
  {
   "cell_type": "code",
   "execution_count": null,
   "metadata": {},
   "outputs": [],
   "source": [
    "# Example of lambda function using if-else\n",
    "Max = lambda a, b : a if(a > b) else b\n",
    "\n",
    "print(Max(1, 2))\n"
   ]
  },
  {
   "cell_type": "code",
   "execution_count": 7,
   "metadata": {},
   "outputs": [
    {
     "name": "stdout",
     "output_type": "stream",
     "text": [
      "[3, 16, 9]\n"
     ]
    }
   ],
   "source": [
    "List = [[2,3,4],[1, 4, 16, 64],[3, 6, 9, 12]]\n",
    "\n",
    "# Sort each sublist\n",
    "sortList = lambda x: (sorted(i) for i in x)\n",
    "\n",
    "# Get the second largest element\n",
    "secondLargest = lambda x, f : [y[len(y)-2] for y in f(x)]\n",
    "res = secondLargest(List, sortList)\n",
    "\n",
    "print(res)\n"
   ]
  },
  {
   "cell_type": "code",
   "execution_count": 8,
   "metadata": {},
   "outputs": [
    {
     "name": "stdout",
     "output_type": "stream",
     "text": [
      "[2, 4, 6, 8]\n"
     ]
    }
   ],
   "source": [
    "# Python program to demonstrate working\n",
    "# of map.\n",
    "\n",
    "# Return double of n\n",
    "def addition(n):\n",
    "\treturn n + n\n",
    "\n",
    "# We double all numbers using map()\n",
    "numbers = (1, 2, 3, 4)\n",
    "result = map(addition, numbers)\n",
    "print(list(result))\n"
   ]
  },
  {
   "cell_type": "code",
   "execution_count": 8,
   "metadata": {},
   "outputs": [
    {
     "name": "stdout",
     "output_type": "stream",
     "text": [
      "[10, 12, 14, 16, 18, 20, 22, 24, 26, 28, 30, 32, 34, 36, 38, 40, 42, 44, 46, 48, 50, 52, 54, 56, 58, 60, 62, 64, 66, 68, 70, 72, 74, 76, 78, 80, 82, 84, 86, 88, 90, 92, 94, 96, 98, 100]\n",
      "[11, 13, 15, 17, 19, 21, 23, 25, 27, 29, 31, 33, 35, 37, 39, 41, 43, 45, 47, 49, 51, 53, 55, 57, 59, 61, 63, 65, 67, 69, 71, 73, 75, 77, 79, 81, 83, 85, 87, 89, 91, 93, 95, 97, 99]\n"
     ]
    }
   ],
   "source": [
    "even=[]\n",
    "odd=[]\n",
    "for i in range(10,101):\n",
    "    if i%2==0:\n",
    "        even.append(i)\n",
    "    else:\n",
    "        odd.append(i)    \n",
    "print(even)\n",
    "print(odd)        \n"
   ]
  },
  {
   "cell_type": "code",
   "execution_count": 7,
   "metadata": {},
   "outputs": [
    {
     "name": "stdout",
     "output_type": "stream",
     "text": [
      "CHutiya\n",
      "Lundun\n",
      "1.3333333333333333\n"
     ]
    }
   ],
   "source": [
    "l = int(input(\"Enter your number here :\"))\n",
    "l1 = int(input(\"Enter your Number Here\"))\n",
    "try:\n",
    "    x = l/l1\n",
    "except:\n",
    "    print(\"Error Found\")\n",
    "else:\n",
    "    print(\"CHutiya\")\n",
    "finally:\n",
    "    print(\"Lundun\")            \n",
    "print(x)"
   ]
  },
  {
   "cell_type": "code",
   "execution_count": 4,
   "metadata": {},
   "outputs": [
    {
     "name": "stdout",
     "output_type": "stream",
     "text": [
      "Chutiya\n",
      "Chutiya\n"
     ]
    }
   ],
   "source": [
    "l = int(input(\"Enter your Text here\"))\n",
    "for i in range(l):\n",
    "\tprint(\"Chutiya\")"
   ]
  },
  {
   "cell_type": "code",
   "execution_count": 1,
   "metadata": {},
   "outputs": [
    {
     "name": "stdout",
     "output_type": "stream",
     "text": [
      "Not Weird\n"
     ]
    }
   ],
   "source": [
    "n =int(input(\"Please enter a number ==>\"))    \n",
    "if n %3==0:\n",
    "    print(\" weird\")\n",
    "else:\n",
    "    print(\"Not Weird\")   \n"
   ]
  },
  {
   "cell_type": "code",
   "execution_count": 6,
   "metadata": {},
   "outputs": [
    {
     "name": "stdout",
     "output_type": "stream",
     "text": [
      "Not weird\n",
      "Not weird\n",
      "Weird\n",
      "Not weird\n",
      "Not weird\n",
      "Weird\n",
      "Not weird\n",
      "Not weird\n",
      "Weird\n",
      "Not weird\n",
      "Not weird\n",
      "Weird\n",
      "Not weird\n",
      "Not weird\n",
      "Weird\n",
      "Not weird\n",
      "Not weird\n",
      "Weird\n",
      "Not weird\n",
      "Not weird\n",
      "Weird\n",
      "Not weird\n",
      "Not weird\n",
      "Weird\n",
      "Not weird\n",
      "Not weird\n",
      "Weird\n",
      "Not weird\n",
      "Not weird\n",
      "Weird\n",
      "Not weird\n",
      "Not weird\n",
      "Weird\n",
      "Not weird\n",
      "Not weird\n",
      "Weird\n",
      "Not weird\n",
      "Not weird\n",
      "Weird\n",
      "Not weird\n",
      "Not weird\n",
      "Weird\n",
      "Not weird\n",
      "Not weird\n",
      "Weird\n",
      "Not weird\n",
      "Not weird\n",
      "Weird\n",
      "Not weird\n",
      "Not weird\n",
      "Weird\n",
      "Not weird\n",
      "Not weird\n",
      "Weird\n",
      "Not weird\n",
      "Not weird\n",
      "Weird\n",
      "Not weird\n",
      "Not weird\n",
      "Weird\n",
      "Not weird\n",
      "Not weird\n",
      "Weird\n",
      "Not weird\n",
      "Not weird\n",
      "Weird\n",
      "Not weird\n",
      "Not weird\n",
      "Weird\n",
      "Not weird\n",
      "Not weird\n",
      "Weird\n",
      "Not weird\n",
      "Not weird\n",
      "Weird\n",
      "Not weird\n",
      "Not weird\n",
      "Weird\n",
      "Not weird\n",
      "Not weird\n",
      "Weird\n",
      "Not weird\n",
      "Not weird\n",
      "Weird\n",
      "Not weird\n",
      "Not weird\n",
      "Weird\n",
      "Not weird\n",
      "Not weird\n",
      "Weird\n",
      "Not weird\n",
      "Not weird\n",
      "Weird\n",
      "Not weird\n",
      "Not weird\n",
      "Weird\n",
      "Not weird\n",
      "Not weird\n",
      "Weird\n"
     ]
    }
   ],
   "source": [
    "n = int(input())\n",
    "for n in range(1,100):\n",
    "    if n%3==0:\n",
    "        print(\"Weird\")\n",
    "    elif n%2==0 in range(2,5):\n",
    "        print(\"Not Weird\")\n",
    "    elif n%2==0 in range(6,20):\n",
    "        print(\"Weird\")\n",
    "    else:\n",
    "        n>20\n",
    "        print(\"Not weird\")        \n",
    "# if n%3==0:\n",
    "#     print(\" weird\")\n",
    "# else:\n",
    "#     print(\"Not Weird\")  "
   ]
  },
  {
   "cell_type": "code",
   "execution_count": null,
   "metadata": {},
   "outputs": [],
   "source": []
  },
  {
   "cell_type": "code",
   "execution_count": 12,
   "metadata": {},
   "outputs": [
    {
     "name": "stdout",
     "output_type": "stream",
     "text": [
      "Not Weird\n"
     ]
    }
   ],
   "source": [
    "n = int(input())\n",
    "if (n%3==0):\n",
    "    print(\"Weird\")\n",
    "elif n%2==0 in range(2,5):\n",
    "    print(\"Not Weird\")\n",
    "elif n%2==0 in range(6,20):\n",
    "    print(\"Weird\")\n",
    "else:\n",
    "     n%2 == 0 and n>20\n",
    "     print(\"Not Weird\")             "
   ]
  },
  {
   "cell_type": "code",
   "execution_count": 15,
   "metadata": {},
   "outputs": [
    {
     "name": "stdout",
     "output_type": "stream",
     "text": [
      "Weird\n"
     ]
    }
   ],
   "source": [
    "n = int(input())\n",
    "if (n%3==0) and 1<=n<=100:\n",
    "    print(\"Weird\")\n",
    "elif n%2==0 in range(2,5):\n",
    "    print(\"Not Weird\")\n",
    "elif n%2==0 in range(6,20):\n",
    "    print(\"Weird\")\n",
    "else:\n",
    "     n%2 == 0 and n>20\n",
    "     print(\"Not Weird\")       "
   ]
  },
  {
   "cell_type": "code",
   "execution_count": null,
   "metadata": {},
   "outputs": [],
   "source": [
    "n = int(input().strip())\n",
    "check = {True: \"Not Weird\", False: \"Weird\"}\n",
    "\n",
    "print(check[\n",
    "        n%2==0 and (\n",
    "            n in range(2,6) or \n",
    "            n > 20)\n",
    "    ])\n"
   ]
  },
  {
   "cell_type": "code",
   "execution_count": 18,
   "metadata": {},
   "outputs": [
    {
     "name": "stdout",
     "output_type": "stream",
     "text": [
      "0\n",
      "0.6\n"
     ]
    }
   ],
   "source": [
    "a=int(input(\"Enter Your first Number ==>\"))\n",
    "b=int(input(\"Enter Your second Number ==>\"))\n",
    "print(a//b)\n",
    "print( a/b)\n",
    "\n"
   ]
  },
  {
   "cell_type": "code",
   "execution_count": 21,
   "metadata": {},
   "outputs": [
    {
     "name": "stdout",
     "output_type": "stream",
     "text": [
      "0\n"
     ]
    }
   ],
   "source": [
    "l = [{a:3,b:5},print(a//b and a/b)]"
   ]
  },
  {
   "cell_type": "code",
   "execution_count": 4,
   "metadata": {},
   "outputs": [
    {
     "name": "stdout",
     "output_type": "stream",
     "text": [
      "0\n",
      "1\n",
      "4\n"
     ]
    }
   ],
   "source": [
    "n = int(input())\n",
    "for i in range(n):\n",
    "    print(i*i)\n"
   ]
  },
  {
   "cell_type": "code",
   "execution_count": 7,
   "metadata": {},
   "outputs": [],
   "source": [
    "def is_leap(year):\n",
    "    leap = False\n",
    "    \n",
    "    if year == 365:\n",
    "        return leap\n",
    "\n",
    "year = int(input())"
   ]
  },
  {
   "cell_type": "code",
   "execution_count": 11,
   "metadata": {},
   "outputs": [],
   "source": [
    "year = int(input())\n",
    "def is_leap(year):\n",
    "    return year % 4 == 0 and (year % 400 == 0 or year % 100 != 0)"
   ]
  },
  {
   "cell_type": "code",
   "execution_count": 13,
   "metadata": {},
   "outputs": [],
   "source": [
    "year = int(input())\n",
    "def is_leap(year):\n",
    "    leap = False\n",
    "    if year%4 == 0:\n",
    "        if year%100 == 0:\n",
    "            if year%400 == 0:\n",
    "                leap = True\n",
    "            else:\n",
    "                leap = False\n",
    "        else:\n",
    "            leap = True\n",
    "    else:\n",
    "        leap = False\n",
    "    \n",
    "    return leap"
   ]
  },
  {
   "cell_type": "code",
   "execution_count": 20,
   "metadata": {},
   "outputs": [],
   "source": [
    "a =input()\n",
    "for i in a:\n",
    "    if i == a.isdigit():\n",
    "        print(i)\n",
    "\n"
   ]
  },
  {
   "cell_type": "code",
   "execution_count": 23,
   "metadata": {},
   "outputs": [
    {
     "name": "stdout",
     "output_type": "stream",
     "text": [
      "12345\n"
     ]
    }
   ],
   "source": [
    "print(*range(1, int(input())+1), sep='')"
   ]
  },
  {
   "cell_type": "code",
   "execution_count": 30,
   "metadata": {},
   "outputs": [
    {
     "name": "stdout",
     "output_type": "stream",
     "text": [
      "['1', '2', '3', '4', 'S', 'g', 'i', 'n', 'o', 'r', 't']\n"
     ]
    }
   ],
   "source": [
    "s = \"Sorting1234\"\n",
    "print(sorted(s))\n"
   ]
  },
  {
   "cell_type": "code",
   "execution_count": 1,
   "metadata": {},
   "outputs": [],
   "source": [
    "nums = int(input())\n",
    "target = 9\n",
    "for i in range(nums):\n",
    "    for j in range(nums):\n",
    "        break\n",
    "        if (i+j == target):\n",
    "            print(\"Correct\",i,j)\n",
    "        else:\n",
    "            print(\"Wrong\")"
   ]
  },
  {
   "cell_type": "code",
   "execution_count": 3,
   "metadata": {},
   "outputs": [],
   "source": [
    "l1 = [1,2,3,4,5]\n",
    "i = 0\n",
    "while i<len(l1):\n",
    "    l1[i] = l1[i]+100\n",
    "    i = i+1"
   ]
  },
  {
   "cell_type": "code",
   "execution_count": 5,
   "metadata": {},
   "outputs": [
    {
     "name": "stdout",
     "output_type": "stream",
     "text": [
      "[101, 102, 103, 104, 105]\n"
     ]
    }
   ],
   "source": [
    "print(l1)"
   ]
  },
  {
   "cell_type": "code",
   "execution_count": 9,
   "metadata": {},
   "outputs": [
    {
     "name": "stdout",
     "output_type": "stream",
     "text": [
      "orange chair\n",
      "orange table\n",
      "orange laptop\n",
      "black chair\n",
      "black table\n",
      "black laptop\n",
      "White chair\n",
      "White table\n",
      "White laptop\n"
     ]
    }
   ],
   "source": [
    "l1 = [\"orange\",\"black\",\"White\"]\n",
    "l2 = [\"chair\",\"table\",\"laptop\"]\n",
    "for i in l1:\n",
    "    for j in l2:\n",
    "        print(i,j)"
   ]
  },
  {
   "cell_type": "code",
   "execution_count": 1,
   "metadata": {},
   "outputs": [],
   "source": [
    "class Phone:\n",
    "    def set_color(self,color):\n",
    "        self.color = color\n",
    "    def set_cost(self,cost):\n",
    "        self.cost = cost\n",
    "    def show_color(self):\n",
    "        return self.color\n",
    "    def show_cost(self):\n",
    "        return self.cost\n",
    "    def make_call(self):\n",
    "        print(\"Iam making a call\")\n",
    "    def play_game(self):\n",
    "        print(\"I am playing a game\")                    "
   ]
  },
  {
   "cell_type": "code",
   "execution_count": 2,
   "metadata": {},
   "outputs": [],
   "source": [
    "p1 = Phone()"
   ]
  },
  {
   "cell_type": "code",
   "execution_count": 3,
   "metadata": {},
   "outputs": [],
   "source": [
    "p1.set_color(\"Black\")"
   ]
  },
  {
   "cell_type": "code",
   "execution_count": 4,
   "metadata": {},
   "outputs": [],
   "source": [
    "p1.set_cost(35000)"
   ]
  },
  {
   "cell_type": "code",
   "execution_count": 5,
   "metadata": {},
   "outputs": [
    {
     "data": {
      "text/plain": [
       "'Black'"
      ]
     },
     "execution_count": 5,
     "metadata": {},
     "output_type": "execute_result"
    }
   ],
   "source": [
    "p1.show_color()"
   ]
  },
  {
   "cell_type": "code",
   "execution_count": 6,
   "metadata": {},
   "outputs": [
    {
     "data": {
      "text/plain": [
       "35000"
      ]
     },
     "execution_count": 6,
     "metadata": {},
     "output_type": "execute_result"
    }
   ],
   "source": [
    "p1.show_cost()"
   ]
  },
  {
   "cell_type": "code",
   "execution_count": 7,
   "metadata": {},
   "outputs": [
    {
     "name": "stdout",
     "output_type": "stream",
     "text": [
      "Iam making a call\n"
     ]
    }
   ],
   "source": [
    "p1.make_call()"
   ]
  },
  {
   "cell_type": "code",
   "execution_count": 8,
   "metadata": {},
   "outputs": [
    {
     "name": "stdout",
     "output_type": "stream",
     "text": [
      "I am playing a game\n"
     ]
    }
   ],
   "source": [
    "p1.play_game()"
   ]
  },
  {
   "cell_type": "code",
   "execution_count": 9,
   "metadata": {},
   "outputs": [],
   "source": [
    "class Employee:\n",
    "    def __init__(self,name,age,salary,gender):\n",
    "        self.name = name\n",
    "        self.age = age\n",
    "        self.salary = salary\n",
    "        self.gender = gender\n",
    "    def show_employee_details(self):\n",
    "        print(\"name of Employee is :-\",self.name)\n",
    "        print(\"Age of Employee is  :-\",self.age)\n",
    "        print(\"Salary of the Employee is :-\",self.salary)\n",
    "        print(\"Gender of the Employee is :-\",self.gender)\n",
    "            "
   ]
  },
  {
   "cell_type": "code",
   "execution_count": 10,
   "metadata": {},
   "outputs": [],
   "source": [
    "e1 = Employee(\"Lalit\",28,16000,\"Male\")"
   ]
  },
  {
   "cell_type": "code",
   "execution_count": 11,
   "metadata": {},
   "outputs": [
    {
     "name": "stdout",
     "output_type": "stream",
     "text": [
      "name of Employee is :- Lalit\n",
      "Age of Employee is  :- 28\n",
      "Salary of the Employee is :- 16000\n",
      "Gender of the Employee is :- Male\n"
     ]
    }
   ],
   "source": [
    "e1.show_employee_details()"
   ]
  },
  {
   "cell_type": "code",
   "execution_count": 15,
   "metadata": {},
   "outputs": [],
   "source": [
    "class Vehicle:\n",
    "    def __init__(self,mileage,cost):\n",
    "        self.mileage = mileage\n",
    "        self.cost = cost\n",
    "\n",
    "    def show_vehicle_details(self):\n",
    "        print(\"Mileage of the Vehicle is :-\",self.mileage)\n",
    "        print(\"Cost of the Vehicle is :-\",self.cost)\n",
    "\n",
    "v1 = Vehicle(250,45000)        \n",
    "\n",
    "       "
   ]
  },
  {
   "cell_type": "code",
   "execution_count": 16,
   "metadata": {},
   "outputs": [
    {
     "name": "stdout",
     "output_type": "stream",
     "text": [
      "Mileage of the Vehicle is :- 250\n",
      "Cost of the Vehicle is :- 45000\n"
     ]
    }
   ],
   "source": [
    "v1.show_vehicle_details()"
   ]
  },
  {
   "cell_type": "code",
   "execution_count": 17,
   "metadata": {},
   "outputs": [],
   "source": [
    "class Car(Vehicle):\n",
    "    def show_car_details(self):\n",
    "        print(\"I AM A CAR\")"
   ]
  },
  {
   "cell_type": "code",
   "execution_count": 18,
   "metadata": {},
   "outputs": [],
   "source": [
    "c1 = Car(300,60000)"
   ]
  },
  {
   "cell_type": "code",
   "execution_count": 19,
   "metadata": {},
   "outputs": [
    {
     "name": "stdout",
     "output_type": "stream",
     "text": [
      "I AM A CAR\n"
     ]
    }
   ],
   "source": [
    "c1.show_car_details()"
   ]
  },
  {
   "cell_type": "code",
   "execution_count": 20,
   "metadata": {},
   "outputs": [
    {
     "name": "stdout",
     "output_type": "stream",
     "text": [
      "Mileage of the Vehicle is :- 300\n",
      "Cost of the Vehicle is :- 60000\n"
     ]
    }
   ],
   "source": [
    "c1.show_vehicle_details()"
   ]
  },
  {
   "cell_type": "code",
   "execution_count": 21,
   "metadata": {},
   "outputs": [],
   "source": [
    "class Vehicle:\n",
    "    def __init__(self,mileage,cost):\n",
    "        self.mileage = mileage\n",
    "        self.cost = cost\n",
    "\n",
    "    def show_vehicle_details(self):\n",
    "        print(\"Mileage of the Vehicle is :-\",self.mileage)\n",
    "        print(\"Cost of the Vehicle is :-\",self.cost)\n",
    "\n",
    "        "
   ]
  },
  {
   "cell_type": "code",
   "execution_count": 22,
   "metadata": {},
   "outputs": [],
   "source": [
    "v1 = Vehicle(300,25000)"
   ]
  },
  {
   "cell_type": "code",
   "execution_count": 23,
   "metadata": {},
   "outputs": [
    {
     "name": "stdout",
     "output_type": "stream",
     "text": [
      "Mileage of the Vehicle is :- 300\n",
      "Cost of the Vehicle is :- 25000\n"
     ]
    }
   ],
   "source": [
    "v1.show_vehicle_details()"
   ]
  },
  {
   "cell_type": "code",
   "execution_count": 33,
   "metadata": {},
   "outputs": [],
   "source": [
    "class Car(Vehicle):\n",
    "    def __init__(self,mileage,cost,tyres,hp):\n",
    "        super().__init__(mileage,cost)\n",
    "        self.tyres = tyres\n",
    "        self.hp = hp\n",
    "\n",
    "    def show_car_Details(self):\n",
    "        print(\"Tyres in this car :-\",self.tyres)\n",
    "        print(\"Horse power of this car is :-\",self.hp)\n",
    "        print(\"I am a Car\")\n",
    "       "
   ]
  },
  {
   "cell_type": "code",
   "execution_count": 34,
   "metadata": {},
   "outputs": [],
   "source": [
    "c1 = Car(500,12000,5,500)"
   ]
  },
  {
   "cell_type": "code",
   "execution_count": 35,
   "metadata": {},
   "outputs": [
    {
     "name": "stdout",
     "output_type": "stream",
     "text": [
      "Mileage of the Vehicle is :- 500\n",
      "Cost of the Vehicle is :- 12000\n"
     ]
    }
   ],
   "source": [
    "c1.show_vehicle_details()"
   ]
  },
  {
   "cell_type": "code",
   "execution_count": 36,
   "metadata": {},
   "outputs": [
    {
     "name": "stdout",
     "output_type": "stream",
     "text": [
      "Tyres in this car :- 5\n",
      "Horse power of this car is :- 500\n",
      "I am a Car\n"
     ]
    }
   ],
   "source": [
    "c1.show_car_Details()"
   ]
  },
  {
   "cell_type": "code",
   "execution_count": 37,
   "metadata": {},
   "outputs": [],
   "source": [
    "class Parent:\n",
    "    def parent_name(self,name):\n",
    "        self.name = name\n",
    "    def show_parent1_name(self):\n",
    "        print(self.name) \n",
    "           "
   ]
  },
  {
   "cell_type": "code",
   "execution_count": 38,
   "metadata": {},
   "outputs": [],
   "source": [
    "class Parent2:\n",
    "    def parent2_name(self,name):\n",
    "        self.name = name\n",
    "\n",
    "    def show_parent2_name(self):\n",
    "        print(self.name)\n",
    "            "
   ]
  },
  {
   "cell_type": "code",
   "execution_count": 42,
   "metadata": {},
   "outputs": [],
   "source": [
    "class Child(Parent,Parent2):\n",
    "    def __init__(self,height):\n",
    "        self.height = height \n",
    "\n",
    "    def show_child_properties(self):\n",
    "        print(self.height)    "
   ]
  },
  {
   "cell_type": "code",
   "execution_count": 45,
   "metadata": {},
   "outputs": [],
   "source": [
    "my_child = Child(5.9)"
   ]
  },
  {
   "cell_type": "code",
   "execution_count": 46,
   "metadata": {},
   "outputs": [],
   "source": [
    "my_child.parent_name(\"Gajanan\")"
   ]
  },
  {
   "cell_type": "code",
   "execution_count": 47,
   "metadata": {},
   "outputs": [
    {
     "name": "stdout",
     "output_type": "stream",
     "text": [
      "Gajanan\n"
     ]
    }
   ],
   "source": [
    "my_child.show_parent1_name()"
   ]
  },
  {
   "cell_type": "code",
   "execution_count": 49,
   "metadata": {},
   "outputs": [],
   "source": [
    "my_child.parent2_name(\"Anita\")"
   ]
  },
  {
   "cell_type": "code",
   "execution_count": 50,
   "metadata": {},
   "outputs": [
    {
     "name": "stdout",
     "output_type": "stream",
     "text": [
      "Anita\n"
     ]
    }
   ],
   "source": [
    "my_child.show_parent2_name()"
   ]
  },
  {
   "cell_type": "code",
   "execution_count": 11,
   "metadata": {},
   "outputs": [
    {
     "name": "stdout",
     "output_type": "stream",
     "text": [
      "b\n",
      "b\n",
      "s\n",
      "f\n",
      "h\n",
      "z\n",
      "h\n",
      "f\n"
     ]
    }
   ],
   "source": [
    "s = input()\n",
    "for i in s:\n",
    "    if i.islower():\n",
    "        print(i) "
   ]
  },
  {
   "cell_type": "code",
   "execution_count": 17,
   "metadata": {},
   "outputs": [
    {
     "name": "stdout",
     "output_type": "stream",
     "text": [
      "['1', '2', '3', '4', 'S', 'g', 'i', 'n', 'o', 'r', 't']\n"
     ]
    }
   ],
   "source": [
    "s = \"Sorting1234\"\n",
    "print(sorted(s))\n"
   ]
  },
  {
   "cell_type": "code",
   "execution_count": 18,
   "metadata": {},
   "outputs": [
    {
     "name": "stdout",
     "output_type": "stream",
     "text": [
      "ginortS1324\n"
     ]
    }
   ],
   "source": [
    "print(*sorted(input(), key=lambda c: (-ord(c) >> 5, c in '02468', c)), sep='')\n"
   ]
  },
  {
   "cell_type": "code",
   "execution_count": 25,
   "metadata": {},
   "outputs": [
    {
     "name": "stdout",
     "output_type": "stream",
     "text": [
      "Lalit\n",
      "0 1 2 3 4 5 6 7 8 9 None\n"
     ]
    }
   ],
   "source": [
    "print(*range(10),print(\"Lalit\"))"
   ]
  },
  {
   "cell_type": "code",
   "execution_count": 27,
   "metadata": {},
   "outputs": [
    {
     "ename": "NameError",
     "evalue": "name 'y' is not defined",
     "output_type": "error",
     "traceback": [
      "\u001b[1;31m---------------------------------------------------------------------------\u001b[0m",
      "\u001b[1;31mNameError\u001b[0m                                 Traceback (most recent call last)",
      "\u001b[1;32ml:\\Coding\\Practice Coding\\Practice_1.ipynb Cell 116'\u001b[0m in \u001b[0;36m<cell line: 2>\u001b[1;34m()\u001b[0m\n\u001b[0;32m      <a href='vscode-notebook-cell:/l%3A/Coding/Practice%20Coding/Practice_1.ipynb#ch0000115?line=0'>1</a>\u001b[0m \u001b[39mimport\u001b[39;00m \u001b[39mcalendar\u001b[39;00m\n\u001b[1;32m----> <a href='vscode-notebook-cell:/l%3A/Coding/Practice%20Coding/Practice_1.ipynb#ch0000115?line=1'>2</a>\u001b[0m \u001b[39mprint\u001b[39m(\u001b[39mlist\u001b[39m(calendar\u001b[39m.\u001b[39mday_name)[calendar\u001b[39m.\u001b[39mweekday(y, m, d)]\u001b[39m.\u001b[39mupper())\n",
      "\u001b[1;31mNameError\u001b[0m: name 'y' is not defined"
     ]
    }
   ],
   "source": [
    "import calendar\n",
    "print(list(calendar.day_name)[calendar.weekday(y, m, d)].upper())\n",
    "\n"
   ]
  },
  {
   "cell_type": "code",
   "execution_count": 28,
   "metadata": {},
   "outputs": [
    {
     "name": "stdout",
     "output_type": "stream",
     "text": [
      "12345\n"
     ]
    }
   ],
   "source": [
    "print(*range(1, int(input())+1), sep='')\n"
   ]
  },
  {
   "cell_type": "code",
   "execution_count": 30,
   "metadata": {},
   "outputs": [
    {
     "name": "stdout",
     "output_type": "stream",
     "text": [
      "4 5 8 7\n"
     ]
    }
   ],
   "source": [
    "x, y, z, n = (int(input()) for _ in range(4))\n"
   ]
  },
  {
   "cell_type": "code",
   "execution_count": 33,
   "metadata": {},
   "outputs": [
    {
     "name": "stdout",
     "output_type": "stream",
     "text": [
      "5 y\n",
      "5 y\n",
      "  y\n",
      "  y\n",
      "H y\n",
      "H y\n",
      "a y\n",
      "a y\n",
      "r y\n",
      "r y\n",
      "r y\n",
      "r y\n",
      "y y\n",
      "y y\n",
      "  y\n",
      "  y\n",
      "3 y\n",
      "3 y\n",
      "7 y\n",
      "7 y\n",
      ". y\n",
      ". y\n",
      "2 y\n",
      "2 y\n",
      "1 y\n",
      "1 y\n",
      "  y\n",
      "  y\n",
      "B y\n",
      "B y\n",
      "e y\n",
      "e y\n",
      "r y\n",
      "r y\n",
      "r y\n",
      "r y\n",
      "y y\n",
      "y y\n",
      "  y\n",
      "  y\n",
      "3 y\n",
      "3 y\n",
      "7 y\n",
      "7 y\n",
      ". y\n",
      ". y\n",
      "2 y\n",
      "2 y\n",
      "1 y\n",
      "1 y\n",
      "  y\n",
      "  y\n",
      "T y\n",
      "T y\n",
      "i y\n",
      "i y\n",
      "n y\n",
      "n y\n",
      "a y\n",
      "a y\n",
      "  y\n",
      "  y\n",
      "3 y\n",
      "3 y\n",
      "7 y\n",
      "7 y\n",
      ". y\n",
      ". y\n",
      "2 y\n",
      "2 y\n",
      "  y\n",
      "  y\n",
      "A y\n",
      "A y\n",
      "k y\n",
      "k y\n",
      "r y\n",
      "r y\n",
      "i y\n",
      "i y\n",
      "t y\n",
      "t y\n",
      "i y\n",
      "i y\n",
      "  y\n",
      "  y\n",
      "4 y\n",
      "4 y\n",
      "1 y\n",
      "1 y\n",
      "  y\n",
      "  y\n",
      "H y\n",
      "H y\n",
      "a y\n",
      "a y\n",
      "r y\n",
      "r y\n",
      "s y\n",
      "s y\n",
      "h y\n",
      "h y\n",
      "  y\n",
      "  y\n",
      "3 y\n",
      "3 y\n",
      "9 y\n",
      "9 y\n"
     ]
    }
   ],
   "source": [
    "l = input()\n",
    "for i in l:\n",
    "    for j in l:\n",
    "        if j == max(l):\n",
    "            print(i,j)"
   ]
  },
  {
   "cell_type": "code",
   "execution_count": 35,
   "metadata": {},
   "outputs": [
    {
     "ename": "ValueError",
     "evalue": "could not convert string to float: '5 Harry 37.21 Berry 37.21 Tina 37.2 Akriti 41 Harsh 39'",
     "output_type": "error",
     "traceback": [
      "\u001b[1;31m---------------------------------------------------------------------------\u001b[0m",
      "\u001b[1;31mValueError\u001b[0m                                Traceback (most recent call last)",
      "\u001b[1;32ml:\\Coding\\Practice Coding\\Practice_1.ipynb Cell 102'\u001b[0m in \u001b[0;36m<cell line: 2>\u001b[1;34m()\u001b[0m\n\u001b[0;32m      <a href='vscode-notebook-cell:/l%3A/Coding/Practice%20Coding/Practice_1.ipynb#ch0000101?line=0'>1</a>\u001b[0m marksheet \u001b[39m=\u001b[39m []\n\u001b[1;32m----> <a href='vscode-notebook-cell:/l%3A/Coding/Practice%20Coding/Practice_1.ipynb#ch0000101?line=1'>2</a>\u001b[0m \u001b[39mfor\u001b[39;00m _ \u001b[39min\u001b[39;00m \u001b[39mrange\u001b[39m(\u001b[39m0\u001b[39m,\u001b[39mfloat\u001b[39;49m(\u001b[39minput\u001b[39;49m())):\n\u001b[0;32m      <a href='vscode-notebook-cell:/l%3A/Coding/Practice%20Coding/Practice_1.ipynb#ch0000101?line=2'>3</a>\u001b[0m     marksheet\u001b[39m.\u001b[39mappend([\u001b[39minput\u001b[39m(), \u001b[39mfloat\u001b[39m(\u001b[39minput\u001b[39m())])\n",
      "\u001b[1;31mValueError\u001b[0m: could not convert string to float: '5 Harry 37.21 Berry 37.21 Tina 37.2 Akriti 41 Harsh 39'"
     ]
    }
   ],
   "source": [
    "marksheet = []\n",
    "for _ in range(0,float(input())):\n",
    "    marksheet.append([input(), float(input())])"
   ]
  },
  {
   "cell_type": "code",
   "execution_count": 40,
   "metadata": {},
   "outputs": [
    {
     "name": "stdout",
     "output_type": "stream",
     "text": [
      "None\n",
      "None\n",
      "None\n",
      "None\n",
      "None\n",
      "None\n",
      "None\n",
      "None\n",
      "None\n"
     ]
    }
   ],
   "source": [
    "l =[]\n",
    "for i in range(1,10):\n",
    "    print(l.append(i))"
   ]
  },
  {
   "cell_type": "code",
   "execution_count": 46,
   "metadata": {},
   "outputs": [],
   "source": [
    "def swapcase(x):\n",
    "    return x.swapcase()\n",
    "\n"
   ]
  },
  {
   "cell_type": "code",
   "execution_count": 45,
   "metadata": {},
   "outputs": [],
   "source": [
    "l1 = swapcase(\"GGSADIUGIkvvk\")"
   ]
  },
  {
   "cell_type": "code",
   "execution_count": 57,
   "metadata": {},
   "outputs": [],
   "source": [
    "def swap_case(s):\n",
    "    return s\n",
    "\n",
    "    if s.isalpha():\n",
    "     s = input()\n",
    "     result = swap_case(s)\n",
    "     \n",
    "    print(result)"
   ]
  },
  {
   "cell_type": "code",
   "execution_count": 64,
   "metadata": {},
   "outputs": [
    {
     "name": "stdout",
     "output_type": "stream",
     "text": [
      "WWW.HACKERRANK,COM\n"
     ]
    }
   ],
   "source": [
    "\n",
    "def swap_case(x):\n",
    "    x = x.isalpha()\n",
    "    return x.swapcase()\n",
    "\n",
    "d = swapcase(input())    \n",
    "print(d)"
   ]
  },
  {
   "cell_type": "code",
   "execution_count": 6,
   "metadata": {},
   "outputs": [
    {
     "name": "stdout",
     "output_type": "stream",
     "text": [
      "9\n"
     ]
    }
   ],
   "source": [
    "def addition ():\n",
    "    a = int(input())\n",
    "    b = int(input())\n",
    "    c = a+b\n",
    "    print(c)\n",
    "\n",
    "addition()    "
   ]
  },
  {
   "cell_type": "code",
   "execution_count": 7,
   "metadata": {},
   "outputs": [
    {
     "data": {
      "text/plain": [
       "9"
      ]
     },
     "execution_count": 7,
     "metadata": {},
     "output_type": "execute_result"
    }
   ],
   "source": [
    "def addition(a,b):\n",
    "    c = a+b\n",
    "    return c\n",
    "\n",
    "addition(4,5)"
   ]
  },
  {
   "cell_type": "code",
   "execution_count": 30,
   "metadata": {},
   "outputs": [],
   "source": [
    "class cube:\n",
    "    def z(self,a):\n",
    "      self.a = a\n",
    "      c = a**3\n",
    "      print(c)\n",
    "    \n",
    "\n",
    "c1 = cube()\n"
   ]
  },
  {
   "cell_type": "code",
   "execution_count": 31,
   "metadata": {},
   "outputs": [
    {
     "name": "stdout",
     "output_type": "stream",
     "text": [
      "27\n"
     ]
    }
   ],
   "source": [
    "c1.z(3)"
   ]
  },
  {
   "cell_type": "code",
   "execution_count": 27,
   "metadata": {},
   "outputs": [
    {
     "name": "stdout",
     "output_type": "stream",
     "text": [
      "27\n"
     ]
    }
   ],
   "source": [
    "def cube(a):\n",
    "    c = a**3\n",
    "    return c\n",
    "\n",
    "d = cube(3)\n",
    "print(d)"
   ]
  },
  {
   "cell_type": "code",
   "execution_count": 34,
   "metadata": {},
   "outputs": [],
   "source": [
    "class Sum:\n",
    "    def sum1(self,a,b):\n",
    "        self.a = a\n",
    "        self.b = b\n",
    "        c = a+b\n",
    "        return c\n",
    "\n",
    "\n",
    "        "
   ]
  },
  {
   "cell_type": "code",
   "execution_count": 35,
   "metadata": {},
   "outputs": [],
   "source": [
    "s1 = Sum()"
   ]
  },
  {
   "cell_type": "code",
   "execution_count": 40,
   "metadata": {},
   "outputs": [
    {
     "data": {
      "text/plain": [
       "60"
      ]
     },
     "execution_count": 40,
     "metadata": {},
     "output_type": "execute_result"
    }
   ],
   "source": [
    "s1.sum1(15,45)"
   ]
  },
  {
   "cell_type": "code",
   "execution_count": 52,
   "metadata": {},
   "outputs": [],
   "source": [
    "class Swapcase:\n",
    "    def Sc(self,a):\n",
    "        self.a = a\n",
    "        return a.swapcase()\n",
    "\n"
   ]
  },
  {
   "cell_type": "code",
   "execution_count": 53,
   "metadata": {},
   "outputs": [],
   "source": [
    "a1 = Swapcase()"
   ]
  },
  {
   "cell_type": "code",
   "execution_count": 54,
   "metadata": {},
   "outputs": [
    {
     "data": {
      "text/plain": [
       "'lALIT gAJANAN hUMANE'"
      ]
     },
     "execution_count": 54,
     "metadata": {},
     "output_type": "execute_result"
    }
   ],
   "source": [
    "a1.Sc(\"Lalit Gajanan Humane\")"
   ]
  },
  {
   "cell_type": "code",
   "execution_count": 55,
   "metadata": {},
   "outputs": [
    {
     "name": "stdout",
     "output_type": "stream",
     "text": [
      "[0, 1, 4, 9, 16, 25, 36, 49, 64, 81]\n"
     ]
    }
   ],
   "source": [
    "a = [i*i for i in range(10)]\n",
    "print(a)"
   ]
  },
  {
   "cell_type": "code",
   "execution_count": 25,
   "metadata": {},
   "outputs": [],
   "source": [
    "class Swap_num:\n",
    "    def __init__(self,a,b):\n",
    "        self.a = a\n",
    "        self.b = b\n",
    "        a,b = b,a\n",
    "\n",
    "    def swap (self):\n",
    "        print(a,b)\n",
    "\n",
    "\n"
   ]
  },
  {
   "cell_type": "code",
   "execution_count": 26,
   "metadata": {},
   "outputs": [],
   "source": [
    "sn1 = Swap_num(5,6)"
   ]
  },
  {
   "cell_type": "code",
   "execution_count": 27,
   "metadata": {},
   "outputs": [
    {
     "name": "stdout",
     "output_type": "stream",
     "text": [
      "6 5\n"
     ]
    }
   ],
   "source": [
    "sn1.swap()"
   ]
  },
  {
   "cell_type": "code",
   "execution_count": 21,
   "metadata": {},
   "outputs": [
    {
     "name": "stdout",
     "output_type": "stream",
     "text": [
      "5\n",
      "6\n"
     ]
    }
   ],
   "source": [
    "a = 5\n",
    "b = 6\n",
    "\n",
    "a,b = b,a\n",
    "print(b)\n",
    "print(a)"
   ]
  },
  {
   "cell_type": "code",
   "execution_count": 31,
   "metadata": {},
   "outputs": [],
   "source": [
    "sn2=Swap_num(18,9)"
   ]
  },
  {
   "cell_type": "code",
   "execution_count": 32,
   "metadata": {},
   "outputs": [
    {
     "name": "stdout",
     "output_type": "stream",
     "text": [
      "6 5\n"
     ]
    }
   ],
   "source": [
    "sn2.swap()"
   ]
  },
  {
   "cell_type": "code",
   "execution_count": 10,
   "metadata": {},
   "outputs": [],
   "source": [
    "class Addition:\n",
    "    def __init__(self,x,y):\n",
    "        self.x = x \n",
    "        self.y = y\n",
    "        x = int(input())\n",
    "        y = int(input())\n",
    "        z = x+y\n",
    "        print(\"addition Value is :-\",z)"
   ]
  },
  {
   "cell_type": "code",
   "execution_count": 11,
   "metadata": {},
   "outputs": [
    {
     "name": "stdout",
     "output_type": "stream",
     "text": [
      "addition Value is :- 48\n"
     ]
    }
   ],
   "source": [
    "add = Addition(1,1)"
   ]
  },
  {
   "cell_type": "code",
   "execution_count": 13,
   "metadata": {},
   "outputs": [],
   "source": [
    "class Cube:\n",
    "    def sum(self,x):\n",
    "        self.x = x\n",
    "        x = int(input())\n",
    "        return x*x*x"
   ]
  },
  {
   "cell_type": "code",
   "execution_count": 16,
   "metadata": {},
   "outputs": [],
   "source": [
    "c1 = Cube()"
   ]
  },
  {
   "cell_type": "code",
   "execution_count": 19,
   "metadata": {},
   "outputs": [
    {
     "data": {
      "text/plain": [
       "27"
      ]
     },
     "execution_count": 19,
     "metadata": {},
     "output_type": "execute_result"
    }
   ],
   "source": [
    "c1.sum(1)"
   ]
  },
  {
   "cell_type": "code",
   "execution_count": 3,
   "metadata": {},
   "outputs": [
    {
     "name": "stdout",
     "output_type": "stream",
     "text": [
      "initial string :\n",
      "Geeksforgeeks\n"
     ]
    }
   ],
   "source": [
    "string1 = \"Geeksforgeeks\"\n",
    "print(\"initial string :\")\n",
    "print(string1)"
   ]
  },
  {
   "cell_type": "code",
   "execution_count": 6,
   "metadata": {},
   "outputs": [],
   "source": [
    "def is_leap(year):\n",
    " return year % 4 == 0 and (year % 400 == 0 or year % 100 != 0)"
   ]
  },
  {
   "cell_type": "code",
   "execution_count": 7,
   "metadata": {},
   "outputs": [
    {
     "name": "stdout",
     "output_type": "stream",
     "text": [
      "False\n"
     ]
    }
   ],
   "source": [
    "is_leap(2022)"
   ]
  },
  {
   "cell_type": "code",
   "execution_count": 9,
   "metadata": {},
   "outputs": [
    {
     "name": "stdout",
     "output_type": "stream",
     "text": [
      "True\n"
     ]
    }
   ],
   "source": [
    "is_leap(2020)"
   ]
  },
  {
   "cell_type": "code",
   "execution_count": 15,
   "metadata": {},
   "outputs": [
    {
     "name": "stdout",
     "output_type": "stream",
     "text": [
      "False\n"
     ]
    }
   ],
   "source": [
    "def is_leap(year):\n",
    "    return  year%400 == 0 and (year%4==0 or year%100!=0)\n",
    "\n",
    "\n",
    "year = int(input())\n",
    "print(is_leap(year))"
   ]
  },
  {
   "cell_type": "code",
   "execution_count": 14,
   "metadata": {},
   "outputs": [
    {
     "data": {
      "text/plain": [
       "False"
      ]
     },
     "execution_count": 14,
     "metadata": {},
     "output_type": "execute_result"
    }
   ],
   "source": [
    "is_leap(2021)"
   ]
  },
  {
   "cell_type": "code",
   "execution_count": 36,
   "metadata": {},
   "outputs": [],
   "source": [
    "def is_leap(year):\n",
    "    leap = False\n",
    "    if year%400 == 0 or (year%4==0 and year%100!=0):\n",
    "        leap = \"True\"\n",
    "    else:   \n",
    "       leap = \"False\"  \n",
    "       return leap \n"
   ]
  },
  {
   "cell_type": "code",
   "execution_count": 39,
   "metadata": {},
   "outputs": [],
   "source": [
    "is_leap(2024)"
   ]
  },
  {
   "cell_type": "code",
   "execution_count": 31,
   "metadata": {},
   "outputs": [
    {
     "name": "stdout",
     "output_type": "stream",
     "text": [
      "['Lalit']\n"
     ]
    }
   ],
   "source": [
    "l = []\n",
    "x  = \"Lalit\"\n",
    "l.append(x)\n",
    "print(l)"
   ]
  },
  {
   "cell_type": "code",
   "execution_count": 34,
   "metadata": {},
   "outputs": [
    {
     "name": "stdout",
     "output_type": "stream",
     "text": [
      "lalit Hushar Mulga\n",
      "lalit Hushar Mulga\n",
      "lalit Hushar Mulga\n",
      "lalit Hushar Mulga\n",
      "lalit Hushar Mulga\n"
     ]
    }
   ],
   "source": [
    "for i in range(len(x)):\n",
    "    print(\"lalit Hushar Mulga\")"
   ]
  },
  {
   "cell_type": "code",
   "execution_count": 33,
   "metadata": {},
   "outputs": [
    {
     "name": "stdout",
     "output_type": "stream",
     "text": [
      "5\n"
     ]
    }
   ],
   "source": [
    "print(len(x))"
   ]
  },
  {
   "cell_type": "code",
   "execution_count": 35,
   "metadata": {},
   "outputs": [
    {
     "name": "stdout",
     "output_type": "stream",
     "text": [
      "{'Name': 'Lalit', 'Age': 28}\n"
     ]
    }
   ],
   "source": [
    "d = {}\n",
    "d[\"Name\"] = \"Lalit\"\n",
    "d[\"Age\"] = 28\n",
    "print(d)"
   ]
  },
  {
   "cell_type": "code",
   "execution_count": 70,
   "metadata": {},
   "outputs": [
    {
     "name": "stdout",
     "output_type": "stream",
     "text": [
      "[45, 11, 25]\n"
     ]
    },
    {
     "ename": "NameError",
     "evalue": "name 'z' is not defined",
     "output_type": "error",
     "traceback": [
      "\u001b[1;31m---------------------------------------------------------------------------\u001b[0m",
      "\u001b[1;31mNameError\u001b[0m                                 Traceback (most recent call last)",
      "\u001b[1;32ml:\\Coding\\Practice Coding\\Practice_1.ipynb Cell 5'\u001b[0m in \u001b[0;36m<cell line: 10>\u001b[1;34m()\u001b[0m\n\u001b[0;32m      <a href='vscode-notebook-cell:/l%3A/Coding/Practice%20Coding/Practice_1.ipynb#ch0000004?line=7'>8</a>\u001b[0m     a \u001b[39m=\u001b[39m a\u001b[39m+\u001b[39m\u001b[39m1\u001b[39m\n\u001b[0;32m      <a href='vscode-notebook-cell:/l%3A/Coding/Practice%20Coding/Practice_1.ipynb#ch0000004?line=8'>9</a>\u001b[0m \u001b[39mprint\u001b[39m(l)\n\u001b[1;32m---> <a href='vscode-notebook-cell:/l%3A/Coding/Practice%20Coding/Practice_1.ipynb#ch0000004?line=9'>10</a>\u001b[0m \u001b[39mif\u001b[39;00m z\u001b[39m==\u001b[39m\u001b[39mint\u001b[39m(l):\n\u001b[0;32m     <a href='vscode-notebook-cell:/l%3A/Coding/Practice%20Coding/Practice_1.ipynb#ch0000004?line=10'>11</a>\u001b[0m     \u001b[39mprint\u001b[39m(z[\u001b[39m-\u001b[39m\u001b[39m2\u001b[39m])\n",
      "\u001b[1;31mNameError\u001b[0m: name 'z' is not defined"
     ]
    }
   ],
   "source": [
    "l = []\n",
    "n = int(input())\n",
    "\n",
    "a = 1\n",
    "while a<=n:\n",
    "    x = int(input())\n",
    "    l.append(x)\n",
    "    a = a+1\n",
    "print(l)\n",
    "if z==int(l):\n",
    "    print(z[-2]) \n",
    "\n",
    "    "
   ]
  },
  {
   "cell_type": "code",
   "execution_count": 71,
   "metadata": {},
   "outputs": [
    {
     "name": "stdout",
     "output_type": "stream",
     "text": [
      "[6, 5, 10]\n",
      "[1, 5, 9, 10]\n",
      "[9, 5, 1]\n"
     ]
    }
   ],
   "source": [
    "l=[]\n",
    "l.insert(0,6)\n",
    "l.insert(1,5)\n",
    "l.insert(2,10)\n",
    "print(l)\n",
    "l.remove(6)\n",
    "l.append(9)\n",
    "l.append(1)\n",
    "l.sort()\n",
    "print(l)\n",
    "l.pop()\n",
    "l.reverse()\n",
    "print(l)    "
   ]
  },
  {
   "cell_type": "code",
   "execution_count": 1,
   "metadata": {},
   "outputs": [],
   "source": [
    "import json"
   ]
  },
  {
   "cell_type": "code",
   "execution_count": null,
   "metadata": {},
   "outputs": [],
   "source": [
    "f = open ()"
   ]
  }
 ],
 "metadata": {
  "interpreter": {
   "hash": "1ca47866375c9e8efc6c4ea03302cd4c4c5daf7f0e220f0f32c5df8d3c27cecb"
  },
  "kernelspec": {
   "display_name": "Python 3.10.0 64-bit",
   "language": "python",
   "name": "python3"
  },
  "language_info": {
   "codemirror_mode": {
    "name": "ipython",
    "version": 3
   },
   "file_extension": ".py",
   "mimetype": "text/x-python",
   "name": "python",
   "nbconvert_exporter": "python",
   "pygments_lexer": "ipython3",
   "version": "3.10.0"
  },
  "orig_nbformat": 4
 },
 "nbformat": 4,
 "nbformat_minor": 2
}
